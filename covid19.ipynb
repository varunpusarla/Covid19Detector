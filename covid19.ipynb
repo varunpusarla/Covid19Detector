{
  "nbformat": 4,
  "nbformat_minor": 0,
  "metadata": {
    "colab": {
      "name": "covid19.ipynb",
      "provenance": [],
      "collapsed_sections": []
    },
    "kernelspec": {
      "name": "python3",
      "display_name": "Python 3"
    },
    "accelerator": "GPU"
  },
  "cells": [
    {
      "cell_type": "code",
      "metadata": {
        "id": "Xx1gCrAFzhkx",
        "colab_type": "code",
        "colab": {}
      },
      "source": [
        ""
      ],
      "execution_count": 26,
      "outputs": []
    },
    {
      "cell_type": "code",
      "metadata": {
        "id": "0E8dHynf5l4W",
        "colab_type": "code",
        "colab": {
          "base_uri": "https://localhost:8080/",
          "height": 440
        },
        "outputId": "d4dd37b0-8f66-4ccf-bcde-33ac56af38c0"
      },
      "source": [
        "!wget https://www.dropbox.com/s/7rjw6oet4za01op/CovidDataset-20200427T133042Z-001.zip?dl=0\n"
      ],
      "execution_count": 27,
      "outputs": [
        {
          "output_type": "stream",
          "text": [
            "--2020-09-02 17:23:53--  https://www.dropbox.com/s/7rjw6oet4za01op/CovidDataset-20200427T133042Z-001.zip?dl=0\n",
            "Resolving www.dropbox.com (www.dropbox.com)... 162.125.1.1, 2620:100:6016:1::a27d:101\n",
            "Connecting to www.dropbox.com (www.dropbox.com)|162.125.1.1|:443... connected.\n",
            "HTTP request sent, awaiting response... 301 Moved Permanently\n",
            "Location: /s/raw/7rjw6oet4za01op/CovidDataset-20200427T133042Z-001.zip [following]\n",
            "--2020-09-02 17:23:53--  https://www.dropbox.com/s/raw/7rjw6oet4za01op/CovidDataset-20200427T133042Z-001.zip\n",
            "Reusing existing connection to www.dropbox.com:443.\n",
            "HTTP request sent, awaiting response... 302 Found\n",
            "Location: https://ucbf51557c6861722816378c94fc.dl.dropboxusercontent.com/cd/0/inline/A-qQKu9Vp4wPRy4rNyrjcXB_XZeXTwc1BRIOn4ruLRxfdhfxFjyh8_E9yIdXgUmXdh_C_Ynr1G1rLfZJwZm6o6GsBJAoKq6Wo0p7ez4qBGSg9QEDJwKYBAHK36fSQfKsbjc/file# [following]\n",
            "--2020-09-02 17:23:54--  https://ucbf51557c6861722816378c94fc.dl.dropboxusercontent.com/cd/0/inline/A-qQKu9Vp4wPRy4rNyrjcXB_XZeXTwc1BRIOn4ruLRxfdhfxFjyh8_E9yIdXgUmXdh_C_Ynr1G1rLfZJwZm6o6GsBJAoKq6Wo0p7ez4qBGSg9QEDJwKYBAHK36fSQfKsbjc/file\n",
            "Resolving ucbf51557c6861722816378c94fc.dl.dropboxusercontent.com (ucbf51557c6861722816378c94fc.dl.dropboxusercontent.com)... 162.125.1.15, 2620:100:6016:15::a27d:10f\n",
            "Connecting to ucbf51557c6861722816378c94fc.dl.dropboxusercontent.com (ucbf51557c6861722816378c94fc.dl.dropboxusercontent.com)|162.125.1.15|:443... connected.\n",
            "HTTP request sent, awaiting response... 302 Found\n",
            "Location: /cd/0/inline2/A-qmYht288l76V_RKnlaql9VNVbTDePwgOofY6wRt5Y37wUxWmMzTCsINo8mwA24ihHM55yKMHOLZORUU-KqPQPl8qoxJVsCvBAQB5Te7beNJiRsuMzYksOuR_Js_i9rcpJ1--4yQdihh4yLdHN2sO1smvRTeke_xlcwlVyDqFLaZ3CTktZIeKcjVLWvpoqB29em90eIAgqxQVGfPWJaefcZEF24L5zcSORrAVKYcjcTJcbfqgH2DIE00Zq-eJgmu9S9RDZi3ivZmDzGlQM0R1nXremuQ9fHZ8BYIrl0rD2_741oaatI8eXRrDTxYWGrcc5Fi7S7zuq9Vo_n7LK4I3ALItS0TK7UDOrtH2Jijxl-_w/file [following]\n",
            "--2020-09-02 17:23:54--  https://ucbf51557c6861722816378c94fc.dl.dropboxusercontent.com/cd/0/inline2/A-qmYht288l76V_RKnlaql9VNVbTDePwgOofY6wRt5Y37wUxWmMzTCsINo8mwA24ihHM55yKMHOLZORUU-KqPQPl8qoxJVsCvBAQB5Te7beNJiRsuMzYksOuR_Js_i9rcpJ1--4yQdihh4yLdHN2sO1smvRTeke_xlcwlVyDqFLaZ3CTktZIeKcjVLWvpoqB29em90eIAgqxQVGfPWJaefcZEF24L5zcSORrAVKYcjcTJcbfqgH2DIE00Zq-eJgmu9S9RDZi3ivZmDzGlQM0R1nXremuQ9fHZ8BYIrl0rD2_741oaatI8eXRrDTxYWGrcc5Fi7S7zuq9Vo_n7LK4I3ALItS0TK7UDOrtH2Jijxl-_w/file\n",
            "Reusing existing connection to ucbf51557c6861722816378c94fc.dl.dropboxusercontent.com:443.\n",
            "HTTP request sent, awaiting response... 200 OK\n",
            "Length: 140830621 (134M) [application/zip]\n",
            "Saving to: ‘CovidDataset-20200427T133042Z-001.zip?dl=0.2’\n",
            "\n",
            "CovidDataset-202004 100%[===================>] 134.31M  50.0MB/s    in 2.7s    \n",
            "\n",
            "2020-09-02 17:23:57 (50.0 MB/s) - ‘CovidDataset-20200427T133042Z-001.zip?dl=0.2’ saved [140830621/140830621]\n",
            "\n"
          ],
          "name": "stdout"
        }
      ]
    },
    {
      "cell_type": "code",
      "metadata": {
        "id": "bMMYKURc5s0q",
        "colab_type": "code",
        "colab": {
          "base_uri": "https://localhost:8080/",
          "height": 83
        },
        "outputId": "29e88fe7-6843-4dda-e795-2da7c1d13356"
      },
      "source": [
        "!unzip CovidDataset-20200427T133042Z-001.zip\\?dl\\=0"
      ],
      "execution_count": null,
      "outputs": [
        {
          "output_type": "stream",
          "text": [
            "Archive:  CovidDataset-20200427T133042Z-001.zip?dl=0\n",
            "replace CovidDataset/Val/Covid/88de9d8c39e946abd495b37cd07d89e5-6531-0.jpg? [y]es, [n]o, [A]ll, [N]one, [r]ename: "
          ],
          "name": "stdout"
        }
      ]
    },
    {
      "cell_type": "code",
      "metadata": {
        "id": "H_WxMQJZ6tdY",
        "colab_type": "code",
        "colab": {}
      },
      "source": [
        "TRAIN_PATH = \"CovidDataset/Train\"\n",
        "VAL_PATH = \"CovidDataset/Test\"\n",
        "\n"
      ],
      "execution_count": null,
      "outputs": []
    },
    {
      "cell_type": "code",
      "metadata": {
        "id": "o6r2gslW62Rl",
        "colab_type": "code",
        "colab": {}
      },
      "source": [
        "import numpy as np\n",
        "import matplotlib.pyplot as plt\n",
        "import keras\n",
        "from keras.layers import *\n",
        "from keras.models import * \n",
        "from keras.preprocessing import image"
      ],
      "execution_count": null,
      "outputs": []
    },
    {
      "cell_type": "code",
      "metadata": {
        "id": "ROzFtReb64b4",
        "colab_type": "code",
        "colab": {}
      },
      "source": [
        "# CNN Based Model in Keras\n",
        "\n",
        "model = Sequential()\n",
        "model.add(Conv2D(32,kernel_size=(3,3),activation='relu',input_shape=(224,224,3)))\n",
        "model.add(Conv2D(64,(3,3),activation='relu'))\n",
        "model.add(MaxPooling2D(pool_size=(2,2)))\n",
        "model.add(Dropout(0.25))\n",
        "\n",
        "model.add(Conv2D(64,(3,3),activation='relu'))\n",
        "model.add(MaxPooling2D(pool_size=(2,2)))\n",
        "model.add(Dropout(0.25))\n",
        "\n",
        "model.add(Conv2D(128,(3,3),activation='relu'))\n",
        "model.add(MaxPooling2D(pool_size=(2,2)))\n",
        "model.add(Dropout(0.25))\n",
        "\n",
        "model.add(Flatten())\n",
        "model.add(Dense(64,activation='relu'))\n",
        "model.add(Dropout(0.5))\n",
        "model.add(Dense(1,activation='sigmoid'))\n",
        "\n",
        "model.compile(loss=keras.losses.binary_crossentropy,optimizer='adam',metrics=['accuracy'])"
      ],
      "execution_count": null,
      "outputs": []
    },
    {
      "cell_type": "code",
      "metadata": {
        "id": "qKbsE-vqz1Xb",
        "colab_type": "code",
        "colab": {}
      },
      "source": [
        "model.summary()"
      ],
      "execution_count": null,
      "outputs": []
    },
    {
      "cell_type": "code",
      "metadata": {
        "id": "rP0pcf_y0Bry",
        "colab_type": "code",
        "colab": {}
      },
      "source": [
        "train_data_gen=image.ImageDataGenerator(\n",
        "    rescale=1./255,\n",
        "    shear_range=0.2,\n",
        "    zoom_range=0.2,\n",
        "    horizontal_flip=True,\n",
        ")\n",
        "\n",
        "test_dataset= image.ImageDataGenerator(rescale=1./255)"
      ],
      "execution_count": null,
      "outputs": []
    },
    {
      "cell_type": "code",
      "metadata": {
        "id": "1id3zPBv0bPk",
        "colab_type": "code",
        "colab": {}
      },
      "source": [
        "train_generator = train_data_gen.flow_from_directory(\n",
        "    'CovidDataset/Train',\n",
        "    target_size = (224,224),\n",
        "    batch_size = 32,\n",
        "    class_mode = 'binary')"
      ],
      "execution_count": null,
      "outputs": []
    },
    {
      "cell_type": "code",
      "metadata": {
        "id": "QiSUAm_f0wLZ",
        "colab_type": "code",
        "colab": {}
      },
      "source": [
        "validation_generator = test_dataset.flow_from_directory(\n",
        "    'CovidDataset/Val',\n",
        "    target_size = (224,224),\n",
        "    batch_size = 32,\n",
        "    class_mode = 'binary')"
      ],
      "execution_count": null,
      "outputs": []
    },
    {
      "cell_type": "code",
      "metadata": {
        "id": "MbODe4zJ07iE",
        "colab_type": "code",
        "colab": {}
      },
      "source": [
        "hist = model.fit_generator(\n",
        "    train_generator,\n",
        "    steps_per_epoch=8,\n",
        "    epochs = 10,\n",
        "    validation_data = validation_generator,\n",
        "    validation_steps=2\n",
        ")"
      ],
      "execution_count": null,
      "outputs": []
    },
    {
      "cell_type": "code",
      "metadata": {
        "id": "RU9w5Jhv0_zF",
        "colab_type": "code",
        "colab": {}
      },
      "source": [
        ""
      ],
      "execution_count": null,
      "outputs": []
    }
  ]
}